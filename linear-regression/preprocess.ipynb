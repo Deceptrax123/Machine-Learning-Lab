{
 "cells": [
  {
   "cell_type": "code",
   "execution_count": 74,
   "metadata": {},
   "outputs": [],
   "source": [
    "import pandas as pd\n",
    "import numpy as np\n",
    "import matplotlib.pyplot as plt"
   ]
  },
  {
   "cell_type": "code",
   "execution_count": 75,
   "metadata": {},
   "outputs": [],
   "source": [
    "data=pd.read_csv(\"./possum.csv\")"
   ]
  },
  {
   "cell_type": "code",
   "execution_count": 76,
   "metadata": {},
   "outputs": [
    {
     "data": {
      "text/html": [
       "<div>\n",
       "<style scoped>\n",
       "    .dataframe tbody tr th:only-of-type {\n",
       "        vertical-align: middle;\n",
       "    }\n",
       "\n",
       "    .dataframe tbody tr th {\n",
       "        vertical-align: top;\n",
       "    }\n",
       "\n",
       "    .dataframe thead th {\n",
       "        text-align: right;\n",
       "    }\n",
       "</style>\n",
       "<table border=\"1\" class=\"dataframe\">\n",
       "  <thead>\n",
       "    <tr style=\"text-align: right;\">\n",
       "      <th></th>\n",
       "      <th>case</th>\n",
       "      <th>site</th>\n",
       "      <th>Pop</th>\n",
       "      <th>sex</th>\n",
       "      <th>age</th>\n",
       "      <th>hdlngth</th>\n",
       "      <th>skullw</th>\n",
       "      <th>totlngth</th>\n",
       "      <th>taill</th>\n",
       "      <th>footlgth</th>\n",
       "      <th>earconch</th>\n",
       "      <th>eye</th>\n",
       "      <th>chest</th>\n",
       "      <th>belly</th>\n",
       "    </tr>\n",
       "  </thead>\n",
       "  <tbody>\n",
       "    <tr>\n",
       "      <th>0</th>\n",
       "      <td>1</td>\n",
       "      <td>1</td>\n",
       "      <td>Vic</td>\n",
       "      <td>m</td>\n",
       "      <td>8.0</td>\n",
       "      <td>94.1</td>\n",
       "      <td>60.4</td>\n",
       "      <td>89.0</td>\n",
       "      <td>36.0</td>\n",
       "      <td>74.5</td>\n",
       "      <td>54.5</td>\n",
       "      <td>15.2</td>\n",
       "      <td>28.0</td>\n",
       "      <td>36.0</td>\n",
       "    </tr>\n",
       "    <tr>\n",
       "      <th>1</th>\n",
       "      <td>2</td>\n",
       "      <td>1</td>\n",
       "      <td>Vic</td>\n",
       "      <td>f</td>\n",
       "      <td>6.0</td>\n",
       "      <td>92.5</td>\n",
       "      <td>57.6</td>\n",
       "      <td>91.5</td>\n",
       "      <td>36.5</td>\n",
       "      <td>72.5</td>\n",
       "      <td>51.2</td>\n",
       "      <td>16.0</td>\n",
       "      <td>28.5</td>\n",
       "      <td>33.0</td>\n",
       "    </tr>\n",
       "    <tr>\n",
       "      <th>2</th>\n",
       "      <td>3</td>\n",
       "      <td>1</td>\n",
       "      <td>Vic</td>\n",
       "      <td>f</td>\n",
       "      <td>6.0</td>\n",
       "      <td>94.0</td>\n",
       "      <td>60.0</td>\n",
       "      <td>95.5</td>\n",
       "      <td>39.0</td>\n",
       "      <td>75.4</td>\n",
       "      <td>51.9</td>\n",
       "      <td>15.5</td>\n",
       "      <td>30.0</td>\n",
       "      <td>34.0</td>\n",
       "    </tr>\n",
       "    <tr>\n",
       "      <th>3</th>\n",
       "      <td>4</td>\n",
       "      <td>1</td>\n",
       "      <td>Vic</td>\n",
       "      <td>f</td>\n",
       "      <td>6.0</td>\n",
       "      <td>93.2</td>\n",
       "      <td>57.1</td>\n",
       "      <td>92.0</td>\n",
       "      <td>38.0</td>\n",
       "      <td>76.1</td>\n",
       "      <td>52.2</td>\n",
       "      <td>15.2</td>\n",
       "      <td>28.0</td>\n",
       "      <td>34.0</td>\n",
       "    </tr>\n",
       "    <tr>\n",
       "      <th>4</th>\n",
       "      <td>5</td>\n",
       "      <td>1</td>\n",
       "      <td>Vic</td>\n",
       "      <td>f</td>\n",
       "      <td>2.0</td>\n",
       "      <td>91.5</td>\n",
       "      <td>56.3</td>\n",
       "      <td>85.5</td>\n",
       "      <td>36.0</td>\n",
       "      <td>71.0</td>\n",
       "      <td>53.2</td>\n",
       "      <td>15.1</td>\n",
       "      <td>28.5</td>\n",
       "      <td>33.0</td>\n",
       "    </tr>\n",
       "    <tr>\n",
       "      <th>...</th>\n",
       "      <td>...</td>\n",
       "      <td>...</td>\n",
       "      <td>...</td>\n",
       "      <td>...</td>\n",
       "      <td>...</td>\n",
       "      <td>...</td>\n",
       "      <td>...</td>\n",
       "      <td>...</td>\n",
       "      <td>...</td>\n",
       "      <td>...</td>\n",
       "      <td>...</td>\n",
       "      <td>...</td>\n",
       "      <td>...</td>\n",
       "      <td>...</td>\n",
       "    </tr>\n",
       "    <tr>\n",
       "      <th>99</th>\n",
       "      <td>100</td>\n",
       "      <td>7</td>\n",
       "      <td>other</td>\n",
       "      <td>m</td>\n",
       "      <td>1.0</td>\n",
       "      <td>89.5</td>\n",
       "      <td>56.0</td>\n",
       "      <td>81.5</td>\n",
       "      <td>36.5</td>\n",
       "      <td>66.0</td>\n",
       "      <td>46.8</td>\n",
       "      <td>14.8</td>\n",
       "      <td>23.0</td>\n",
       "      <td>27.0</td>\n",
       "    </tr>\n",
       "    <tr>\n",
       "      <th>100</th>\n",
       "      <td>101</td>\n",
       "      <td>7</td>\n",
       "      <td>other</td>\n",
       "      <td>m</td>\n",
       "      <td>1.0</td>\n",
       "      <td>88.6</td>\n",
       "      <td>54.7</td>\n",
       "      <td>82.5</td>\n",
       "      <td>39.0</td>\n",
       "      <td>64.4</td>\n",
       "      <td>48.0</td>\n",
       "      <td>14.0</td>\n",
       "      <td>25.0</td>\n",
       "      <td>33.0</td>\n",
       "    </tr>\n",
       "    <tr>\n",
       "      <th>101</th>\n",
       "      <td>102</td>\n",
       "      <td>7</td>\n",
       "      <td>other</td>\n",
       "      <td>f</td>\n",
       "      <td>6.0</td>\n",
       "      <td>92.4</td>\n",
       "      <td>55.0</td>\n",
       "      <td>89.0</td>\n",
       "      <td>38.0</td>\n",
       "      <td>63.5</td>\n",
       "      <td>45.4</td>\n",
       "      <td>13.0</td>\n",
       "      <td>25.0</td>\n",
       "      <td>30.0</td>\n",
       "    </tr>\n",
       "    <tr>\n",
       "      <th>102</th>\n",
       "      <td>103</td>\n",
       "      <td>7</td>\n",
       "      <td>other</td>\n",
       "      <td>m</td>\n",
       "      <td>4.0</td>\n",
       "      <td>91.5</td>\n",
       "      <td>55.2</td>\n",
       "      <td>82.5</td>\n",
       "      <td>36.5</td>\n",
       "      <td>62.9</td>\n",
       "      <td>45.9</td>\n",
       "      <td>15.4</td>\n",
       "      <td>25.0</td>\n",
       "      <td>29.0</td>\n",
       "    </tr>\n",
       "    <tr>\n",
       "      <th>103</th>\n",
       "      <td>104</td>\n",
       "      <td>7</td>\n",
       "      <td>other</td>\n",
       "      <td>f</td>\n",
       "      <td>3.0</td>\n",
       "      <td>93.6</td>\n",
       "      <td>59.9</td>\n",
       "      <td>89.0</td>\n",
       "      <td>40.0</td>\n",
       "      <td>67.6</td>\n",
       "      <td>46.0</td>\n",
       "      <td>14.8</td>\n",
       "      <td>28.5</td>\n",
       "      <td>33.5</td>\n",
       "    </tr>\n",
       "  </tbody>\n",
       "</table>\n",
       "<p>104 rows × 14 columns</p>\n",
       "</div>"
      ],
      "text/plain": [
       "     case  site    Pop sex  age  hdlngth  skullw  totlngth  taill  footlgth   \n",
       "0       1     1    Vic   m  8.0     94.1    60.4      89.0   36.0      74.5  \\\n",
       "1       2     1    Vic   f  6.0     92.5    57.6      91.5   36.5      72.5   \n",
       "2       3     1    Vic   f  6.0     94.0    60.0      95.5   39.0      75.4   \n",
       "3       4     1    Vic   f  6.0     93.2    57.1      92.0   38.0      76.1   \n",
       "4       5     1    Vic   f  2.0     91.5    56.3      85.5   36.0      71.0   \n",
       "..    ...   ...    ...  ..  ...      ...     ...       ...    ...       ...   \n",
       "99    100     7  other   m  1.0     89.5    56.0      81.5   36.5      66.0   \n",
       "100   101     7  other   m  1.0     88.6    54.7      82.5   39.0      64.4   \n",
       "101   102     7  other   f  6.0     92.4    55.0      89.0   38.0      63.5   \n",
       "102   103     7  other   m  4.0     91.5    55.2      82.5   36.5      62.9   \n",
       "103   104     7  other   f  3.0     93.6    59.9      89.0   40.0      67.6   \n",
       "\n",
       "     earconch   eye  chest  belly  \n",
       "0        54.5  15.2   28.0   36.0  \n",
       "1        51.2  16.0   28.5   33.0  \n",
       "2        51.9  15.5   30.0   34.0  \n",
       "3        52.2  15.2   28.0   34.0  \n",
       "4        53.2  15.1   28.5   33.0  \n",
       "..        ...   ...    ...    ...  \n",
       "99       46.8  14.8   23.0   27.0  \n",
       "100      48.0  14.0   25.0   33.0  \n",
       "101      45.4  13.0   25.0   30.0  \n",
       "102      45.9  15.4   25.0   29.0  \n",
       "103      46.0  14.8   28.5   33.5  \n",
       "\n",
       "[104 rows x 14 columns]"
      ]
     },
     "execution_count": 76,
     "metadata": {},
     "output_type": "execute_result"
    }
   ],
   "source": [
    "data"
   ]
  },
  {
   "cell_type": "code",
   "execution_count": 77,
   "metadata": {},
   "outputs": [],
   "source": [
    "#pre-processing\n",
    "#Handling null values\n",
    "columns=list(data.columns.values)"
   ]
  },
  {
   "cell_type": "code",
   "execution_count": 78,
   "metadata": {},
   "outputs": [
    {
     "data": {
      "text/plain": [
       "['case',\n",
       " 'site',\n",
       " 'Pop',\n",
       " 'sex',\n",
       " 'age',\n",
       " 'hdlngth',\n",
       " 'skullw',\n",
       " 'totlngth',\n",
       " 'taill',\n",
       " 'footlgth',\n",
       " 'earconch',\n",
       " 'eye',\n",
       " 'chest',\n",
       " 'belly']"
      ]
     },
     "execution_count": 78,
     "metadata": {},
     "output_type": "execute_result"
    }
   ],
   "source": [
    "columns"
   ]
  },
  {
   "cell_type": "code",
   "execution_count": 96,
   "metadata": {},
   "outputs": [],
   "source": [
    "#count nan\n",
    "nans=data[columns].isna().sum()"
   ]
  },
  {
   "cell_type": "code",
   "execution_count": 97,
   "metadata": {},
   "outputs": [
    {
     "data": {
      "text/plain": [
       "case        0\n",
       "site        0\n",
       "Pop         0\n",
       "sex         0\n",
       "age         0\n",
       "hdlngth     0\n",
       "skullw      0\n",
       "totlngth    0\n",
       "taill       0\n",
       "footlgth    0\n",
       "earconch    0\n",
       "eye         0\n",
       "chest       0\n",
       "belly       0\n",
       "dtype: int64"
      ]
     },
     "execution_count": 97,
     "metadata": {},
     "output_type": "execute_result"
    }
   ],
   "source": [
    "nans"
   ]
  },
  {
   "cell_type": "code",
   "execution_count": 81,
   "metadata": {},
   "outputs": [
    {
     "data": {
      "text/plain": [
       "0      89.0\n",
       "1      91.5\n",
       "2      95.5\n",
       "3      92.0\n",
       "4      85.5\n",
       "       ... \n",
       "99     81.5\n",
       "100    82.5\n",
       "101    89.0\n",
       "102    82.5\n",
       "103    89.0\n",
       "Name: totlngth, Length: 104, dtype: float64"
      ]
     },
     "execution_count": 81,
     "metadata": {},
     "output_type": "execute_result"
    }
   ],
   "source": [
    "data['totlngth']"
   ]
  },
  {
   "cell_type": "code",
   "execution_count": 82,
   "metadata": {},
   "outputs": [],
   "source": [
    "#continous data replace nan with mean\n",
    "mean1=np.mean(data['totlngth'])\n",
    "\n",
    "data['totlngth']=data['totlngth'].fillna(mean1)"
   ]
  },
  {
   "cell_type": "code",
   "execution_count": 83,
   "metadata": {},
   "outputs": [
    {
     "data": {
      "text/plain": [
       "0      8.0\n",
       "1      6.0\n",
       "2      6.0\n",
       "3      6.0\n",
       "4      2.0\n",
       "      ... \n",
       "99     1.0\n",
       "100    1.0\n",
       "101    6.0\n",
       "102    4.0\n",
       "103    3.0\n",
       "Name: age, Length: 104, dtype: float64"
      ]
     },
     "execution_count": 83,
     "metadata": {},
     "output_type": "execute_result"
    }
   ],
   "source": [
    "data['age']"
   ]
  },
  {
   "cell_type": "code",
   "execution_count": 84,
   "metadata": {},
   "outputs": [
    {
     "data": {
      "text/plain": [
       "9.0"
      ]
     },
     "execution_count": 84,
     "metadata": {},
     "output_type": "execute_result"
    }
   ],
   "source": [
    "np.max(data['age'])"
   ]
  },
  {
   "cell_type": "code",
   "execution_count": 85,
   "metadata": {},
   "outputs": [
    {
     "data": {
      "text/plain": [
       "1.0"
      ]
     },
     "execution_count": 85,
     "metadata": {},
     "output_type": "execute_result"
    }
   ],
   "source": [
    "np.min(data['age'])"
   ]
  },
  {
   "cell_type": "code",
   "execution_count": 86,
   "metadata": {},
   "outputs": [
    {
     "data": {
      "text/plain": [
       "1.8998623961179415"
      ]
     },
     "execution_count": 86,
     "metadata": {},
     "output_type": "execute_result"
    }
   ],
   "source": [
    "np.std(data['age'])"
   ]
  },
  {
   "cell_type": "code",
   "execution_count": 87,
   "metadata": {},
   "outputs": [
    {
     "data": {
      "text/plain": [
       "3.8333333333333335"
      ]
     },
     "execution_count": 87,
     "metadata": {},
     "output_type": "execute_result"
    }
   ],
   "source": [
    "np.mean(data['age'])"
   ]
  },
  {
   "cell_type": "code",
   "execution_count": 88,
   "metadata": {},
   "outputs": [
    {
     "data": {
      "text/plain": [
       "(array([10., 16., 27., 14.,  0., 13., 12.,  7.,  1.,  2.]),\n",
       " array([1. , 1.8, 2.6, 3.4, 4.2, 5. , 5.8, 6.6, 7.4, 8.2, 9. ]),\n",
       " <BarContainer object of 10 artists>)"
      ]
     },
     "execution_count": 88,
     "metadata": {},
     "output_type": "execute_result"
    },
    {
     "data": {
      "image/png": "[encoded data removed]",
      "text/plain": [
       "<Figure size 640x480 with 1 Axes>"
      ]
     },
     "metadata": {},
     "output_type": "display_data"
    }
   ],
   "source": [
    "plt.hist(data['age'])"
   ]
  },
  {
   "cell_type": "code",
   "execution_count": 89,
   "metadata": {},
   "outputs": [],
   "source": [
    "mean=np.mean(data['age'])\n",
    "median=np.mean(data['age'])"
   ]
  },
  {
   "cell_type": "code",
   "execution_count": 90,
   "metadata": {},
   "outputs": [],
   "source": [
    "data['age']=data['age'].fillna(mean)"
   ]
  },
  {
   "cell_type": "code",
   "execution_count": 91,
   "metadata": {},
   "outputs": [
    {
     "data": {
      "text/plain": [
       "(array([10., 16., 27., 16.,  0., 13., 12.,  7.,  1.,  2.]),\n",
       " array([1. , 1.8, 2.6, 3.4, 4.2, 5. , 5.8, 6.6, 7.4, 8.2, 9. ]),\n",
       " <BarContainer object of 10 artists>)"
      ]
     },
     "execution_count": 91,
     "metadata": {},
     "output_type": "execute_result"
    },
    {
     "data": {
      "image/png": "[encoded data removed]",
      "text/plain": [
       "<Figure size 640x480 with 1 Axes>"
      ]
     },
     "metadata": {},
     "output_type": "display_data"
    }
   ],
   "source": [
    "plt.hist(data['age'])"
   ]
  },
  {
   "cell_type": "code",
   "execution_count": 92,
   "metadata": {},
   "outputs": [
    {
     "data": {
      "text/plain": [
       "<BarContainer object of 104 artists>"
      ]
     },
     "execution_count": 92,
     "metadata": {},
     "output_type": "execute_result"
    },
    {
     "data": {
      "image/png": "[encoded data removed]",
      "text/plain": [
       "<Figure size 640x480 with 1 Axes>"
      ]
     },
     "metadata": {},
     "output_type": "display_data"
    }
   ],
   "source": [
    "plt.bar(data['case'],data['age'])"
   ]
  },
  {
   "cell_type": "code",
   "execution_count": 93,
   "metadata": {},
   "outputs": [
    {
     "data": {
      "text/plain": [
       "0      74.5\n",
       "1      72.5\n",
       "2      75.4\n",
       "3      76.1\n",
       "4      71.0\n",
       "       ... \n",
       "99     66.0\n",
       "100    64.4\n",
       "101    63.5\n",
       "102    62.9\n",
       "103    67.6\n",
       "Name: footlgth, Length: 104, dtype: float64"
      ]
     },
     "execution_count": 93,
     "metadata": {},
     "output_type": "execute_result"
    }
   ],
   "source": [
    "data['footlgth']"
   ]
  },
  {
   "cell_type": "code",
   "execution_count": 94,
   "metadata": {},
   "outputs": [],
   "source": [
    "mean3=np.mean(data['footlgth'])\n",
    "data['footlgth']=data['footlgth'].fillna(mean3)"
   ]
  },
  {
   "cell_type": "code",
   "execution_count": 95,
   "metadata": {},
   "outputs": [
    {
     "data": {
      "text/plain": [
       "<Axes: ylabel='Density'>"
      ]
     },
     "execution_count": 95,
     "metadata": {},
     "output_type": "execute_result"
    },
    {
     "data": {
      "image/png": "[encoded data removed]",
      "text/plain": [
       "<Figure size 640x480 with 1 Axes>"
      ]
     },
     "metadata": {},
     "output_type": "display_data"
    }
   ],
   "source": [
    "data['age'].plot(kind='kde')"
   ]
  },
  {
   "cell_type": "code",
   "execution_count": 100,
   "metadata": {},
   "outputs": [
    {
     "data": {
      "text/plain": [
       "0        Vic\n",
       "1        Vic\n",
       "2        Vic\n",
       "3        Vic\n",
       "4        Vic\n",
       "       ...  \n",
       "99     other\n",
       "100    other\n",
       "101    other\n",
       "102    other\n",
       "103    other\n",
       "Name: Pop, Length: 104, dtype: object"
      ]
     },
     "execution_count": 100,
     "metadata": {},
     "output_type": "execute_result"
    }
   ],
   "source": [
    "data['Pop']"
   ]
  },
  {
   "cell_type": "code",
   "execution_count": 101,
   "metadata": {},
   "outputs": [
    {
     "data": {
      "text/plain": [
       "(array([46.,  0.,  0.,  0.,  0.,  0.,  0.,  0.,  0., 58.]),\n",
       " array([0. , 0.1, 0.2, 0.3, 0.4, 0.5, 0.6, 0.7, 0.8, 0.9, 1. ]),\n",
       " <BarContainer object of 10 artists>)"
      ]
     },
     "execution_count": 101,
     "metadata": {},
     "output_type": "execute_result"
    },
    {
     "data": {
      "image/png": "[encoded data removed]",
      "text/plain": [
       "<Figure size 640x480 with 1 Axes>"
      ]
     },
     "metadata": {},
     "output_type": "display_data"
    }
   ],
   "source": [
    "plt.hist(data['Pop'])"
   ]
  },
  {
   "cell_type": "code",
   "execution_count": 102,
   "metadata": {},
   "outputs": [],
   "source": [
    "#Assign 1 to other and 0 to vic\n",
    "mapping={'Vic':0,'other':1}\n",
    "\n",
    "data['Pop']=data['Pop'].map(mapping)"
   ]
  },
  {
   "cell_type": "code",
   "execution_count": 104,
   "metadata": {},
   "outputs": [
    {
     "data": {
      "text/plain": [
       "(array([61.,  0.,  0.,  0.,  0.,  0.,  0.,  0.,  0., 43.]),\n",
       " array([0. , 0.1, 0.2, 0.3, 0.4, 0.5, 0.6, 0.7, 0.8, 0.9, 1. ]),\n",
       " <BarContainer object of 10 artists>)"
      ]
     },
     "execution_count": 104,
     "metadata": {},
     "output_type": "execute_result"
    },
    {
     "data": {
      "image/png": "[encoded data removed]",
      "text/plain": [
       "<Figure size 640x480 with 1 Axes>"
      ]
     },
     "metadata": {},
     "output_type": "display_data"
    }
   ],
   "source": [
    "plt.hist(data['sex'])"
   ]
  },
  {
   "cell_type": "code",
   "execution_count": 106,
   "metadata": {},
   "outputs": [],
   "source": [
    "mapping2={'m':1,'f':0}\n",
    "data['sex']=data['sex'].map(mapping2)"
   ]
  },
  {
   "cell_type": "code",
   "execution_count": 107,
   "metadata": {},
   "outputs": [
    {
     "data": {
      "text/html": [
       "<div>\n",
       "<style scoped>\n",
       "    .dataframe tbody tr th:only-of-type {\n",
       "        vertical-align: middle;\n",
       "    }\n",
       "\n",
       "    .dataframe tbody tr th {\n",
       "        vertical-align: top;\n",
       "    }\n",
       "\n",
       "    .dataframe thead th {\n",
       "        text-align: right;\n",
       "    }\n",
       "</style>\n",
       "<table border=\"1\" class=\"dataframe\">\n",
       "  <thead>\n",
       "    <tr style=\"text-align: right;\">\n",
       "      <th></th>\n",
       "      <th>case</th>\n",
       "      <th>site</th>\n",
       "      <th>Pop</th>\n",
       "      <th>sex</th>\n",
       "      <th>age</th>\n",
       "      <th>hdlngth</th>\n",
       "      <th>skullw</th>\n",
       "      <th>totlngth</th>\n",
       "      <th>taill</th>\n",
       "      <th>footlgth</th>\n",
       "      <th>earconch</th>\n",
       "      <th>eye</th>\n",
       "      <th>chest</th>\n",
       "      <th>belly</th>\n",
       "    </tr>\n",
       "  </thead>\n",
       "  <tbody>\n",
       "    <tr>\n",
       "      <th>case</th>\n",
       "      <td>1.000000</td>\n",
       "      <td>0.970353</td>\n",
       "      <td>0.860281</td>\n",
       "      <td>0.253980</td>\n",
       "      <td>-0.194404</td>\n",
       "      <td>-0.209177</td>\n",
       "      <td>-0.125065</td>\n",
       "      <td>-0.334329</td>\n",
       "      <td>0.315351</td>\n",
       "      <td>-0.781811</td>\n",
       "      <td>-0.773727</td>\n",
       "      <td>-0.084078</td>\n",
       "      <td>-0.402303</td>\n",
       "      <td>-0.211671</td>\n",
       "    </tr>\n",
       "    <tr>\n",
       "      <th>site</th>\n",
       "      <td>0.970353</td>\n",
       "      <td>1.000000</td>\n",
       "      <td>0.892326</td>\n",
       "      <td>0.232817</td>\n",
       "      <td>-0.130799</td>\n",
       "      <td>-0.163646</td>\n",
       "      <td>-0.083548</td>\n",
       "      <td>-0.260843</td>\n",
       "      <td>0.380444</td>\n",
       "      <td>-0.781171</td>\n",
       "      <td>-0.790716</td>\n",
       "      <td>-0.036987</td>\n",
       "      <td>-0.345494</td>\n",
       "      <td>-0.175266</td>\n",
       "    </tr>\n",
       "    <tr>\n",
       "      <th>Pop</th>\n",
       "      <td>0.860281</td>\n",
       "      <td>0.892326</td>\n",
       "      <td>1.000000</td>\n",
       "      <td>0.195811</td>\n",
       "      <td>-0.085747</td>\n",
       "      <td>0.001267</td>\n",
       "      <td>0.065908</td>\n",
       "      <td>-0.078666</td>\n",
       "      <td>0.490856</td>\n",
       "      <td>-0.788286</td>\n",
       "      <td>-0.883293</td>\n",
       "      <td>0.148594</td>\n",
       "      <td>-0.194957</td>\n",
       "      <td>-0.024788</td>\n",
       "    </tr>\n",
       "    <tr>\n",
       "      <th>sex</th>\n",
       "      <td>0.253980</td>\n",
       "      <td>0.232817</td>\n",
       "      <td>0.195811</td>\n",
       "      <td>1.000000</td>\n",
       "      <td>-0.063995</td>\n",
       "      <td>0.107200</td>\n",
       "      <td>0.080014</td>\n",
       "      <td>-0.160200</td>\n",
       "      <td>-0.040917</td>\n",
       "      <td>-0.122964</td>\n",
       "      <td>-0.091559</td>\n",
       "      <td>0.188371</td>\n",
       "      <td>-0.139074</td>\n",
       "      <td>-0.090777</td>\n",
       "    </tr>\n",
       "    <tr>\n",
       "      <th>age</th>\n",
       "      <td>-0.194404</td>\n",
       "      <td>-0.130799</td>\n",
       "      <td>-0.085747</td>\n",
       "      <td>-0.063995</td>\n",
       "      <td>1.000000</td>\n",
       "      <td>0.311848</td>\n",
       "      <td>0.279955</td>\n",
       "      <td>0.250970</td>\n",
       "      <td>0.117274</td>\n",
       "      <td>0.125314</td>\n",
       "      <td>0.052943</td>\n",
       "      <td>0.234669</td>\n",
       "      <td>0.325303</td>\n",
       "      <td>0.345825</td>\n",
       "    </tr>\n",
       "    <tr>\n",
       "      <th>hdlngth</th>\n",
       "      <td>-0.209177</td>\n",
       "      <td>-0.163646</td>\n",
       "      <td>0.001267</td>\n",
       "      <td>0.107200</td>\n",
       "      <td>0.311848</td>\n",
       "      <td>1.000000</td>\n",
       "      <td>0.710827</td>\n",
       "      <td>0.691094</td>\n",
       "      <td>0.287429</td>\n",
       "      <td>0.388941</td>\n",
       "      <td>0.121463</td>\n",
       "      <td>0.347175</td>\n",
       "      <td>0.631498</td>\n",
       "      <td>0.562663</td>\n",
       "    </tr>\n",
       "    <tr>\n",
       "      <th>skullw</th>\n",
       "      <td>-0.125065</td>\n",
       "      <td>-0.083548</td>\n",
       "      <td>0.065908</td>\n",
       "      <td>0.080014</td>\n",
       "      <td>0.279955</td>\n",
       "      <td>0.710827</td>\n",
       "      <td>1.000000</td>\n",
       "      <td>0.526413</td>\n",
       "      <td>0.255921</td>\n",
       "      <td>0.275057</td>\n",
       "      <td>-0.000537</td>\n",
       "      <td>0.321991</td>\n",
       "      <td>0.629737</td>\n",
       "      <td>0.451838</td>\n",
       "    </tr>\n",
       "    <tr>\n",
       "      <th>totlngth</th>\n",
       "      <td>-0.334329</td>\n",
       "      <td>-0.260843</td>\n",
       "      <td>-0.078666</td>\n",
       "      <td>-0.160200</td>\n",
       "      <td>0.250970</td>\n",
       "      <td>0.691094</td>\n",
       "      <td>0.526413</td>\n",
       "      <td>1.000000</td>\n",
       "      <td>0.565646</td>\n",
       "      <td>0.442866</td>\n",
       "      <td>0.154484</td>\n",
       "      <td>0.247786</td>\n",
       "      <td>0.577890</td>\n",
       "      <td>0.519465</td>\n",
       "    </tr>\n",
       "    <tr>\n",
       "      <th>taill</th>\n",
       "      <td>0.315351</td>\n",
       "      <td>0.380444</td>\n",
       "      <td>0.490856</td>\n",
       "      <td>-0.040917</td>\n",
       "      <td>0.117274</td>\n",
       "      <td>0.287429</td>\n",
       "      <td>0.255921</td>\n",
       "      <td>0.565646</td>\n",
       "      <td>1.000000</td>\n",
       "      <td>-0.126235</td>\n",
       "      <td>-0.385136</td>\n",
       "      <td>0.198134</td>\n",
       "      <td>0.174997</td>\n",
       "      <td>0.294493</td>\n",
       "    </tr>\n",
       "    <tr>\n",
       "      <th>footlgth</th>\n",
       "      <td>-0.781811</td>\n",
       "      <td>-0.781171</td>\n",
       "      <td>-0.788286</td>\n",
       "      <td>-0.122964</td>\n",
       "      <td>0.125314</td>\n",
       "      <td>0.388941</td>\n",
       "      <td>0.275057</td>\n",
       "      <td>0.442866</td>\n",
       "      <td>-0.126235</td>\n",
       "      <td>1.000000</td>\n",
       "      <td>0.768986</td>\n",
       "      <td>0.005197</td>\n",
       "      <td>0.450590</td>\n",
       "      <td>0.301736</td>\n",
       "    </tr>\n",
       "    <tr>\n",
       "      <th>earconch</th>\n",
       "      <td>-0.773727</td>\n",
       "      <td>-0.790716</td>\n",
       "      <td>-0.883293</td>\n",
       "      <td>-0.091559</td>\n",
       "      <td>0.052943</td>\n",
       "      <td>0.121463</td>\n",
       "      <td>-0.000537</td>\n",
       "      <td>0.154484</td>\n",
       "      <td>-0.385136</td>\n",
       "      <td>0.768986</td>\n",
       "      <td>1.000000</td>\n",
       "      <td>-0.165092</td>\n",
       "      <td>0.199230</td>\n",
       "      <td>0.066527</td>\n",
       "    </tr>\n",
       "    <tr>\n",
       "      <th>eye</th>\n",
       "      <td>-0.084078</td>\n",
       "      <td>-0.036987</td>\n",
       "      <td>0.148594</td>\n",
       "      <td>0.188371</td>\n",
       "      <td>0.234669</td>\n",
       "      <td>0.347175</td>\n",
       "      <td>0.321991</td>\n",
       "      <td>0.247786</td>\n",
       "      <td>0.198134</td>\n",
       "      <td>0.005197</td>\n",
       "      <td>-0.165092</td>\n",
       "      <td>1.000000</td>\n",
       "      <td>0.149338</td>\n",
       "      <td>0.235716</td>\n",
       "    </tr>\n",
       "    <tr>\n",
       "      <th>chest</th>\n",
       "      <td>-0.402303</td>\n",
       "      <td>-0.345494</td>\n",
       "      <td>-0.194957</td>\n",
       "      <td>-0.139074</td>\n",
       "      <td>0.325303</td>\n",
       "      <td>0.631498</td>\n",
       "      <td>0.629737</td>\n",
       "      <td>0.577890</td>\n",
       "      <td>0.174997</td>\n",
       "      <td>0.450590</td>\n",
       "      <td>0.199230</td>\n",
       "      <td>0.149338</td>\n",
       "      <td>1.000000</td>\n",
       "      <td>0.606170</td>\n",
       "    </tr>\n",
       "    <tr>\n",
       "      <th>belly</th>\n",
       "      <td>-0.211671</td>\n",
       "      <td>-0.175266</td>\n",
       "      <td>-0.024788</td>\n",
       "      <td>-0.090777</td>\n",
       "      <td>0.345825</td>\n",
       "      <td>0.562663</td>\n",
       "      <td>0.451838</td>\n",
       "      <td>0.519465</td>\n",
       "      <td>0.294493</td>\n",
       "      <td>0.301736</td>\n",
       "      <td>0.066527</td>\n",
       "      <td>0.235716</td>\n",
       "      <td>0.606170</td>\n",
       "      <td>1.000000</td>\n",
       "    </tr>\n",
       "  </tbody>\n",
       "</table>\n",
       "</div>"
      ],
      "text/plain": [
       "              case      site       Pop       sex       age   hdlngth   \n",
       "case      1.000000  0.970353  0.860281  0.253980 -0.194404 -0.209177  \\\n",
       "site      0.970353  1.000000  0.892326  0.232817 -0.130799 -0.163646   \n",
       "Pop       0.860281  0.892326  1.000000  0.195811 -0.085747  0.001267   \n",
       "sex       0.253980  0.232817  0.195811  1.000000 -0.063995  0.107200   \n",
       "age      -0.194404 -0.130799 -0.085747 -0.063995  1.000000  0.311848   \n",
       "hdlngth  -0.209177 -0.163646  0.001267  0.107200  0.311848  1.000000   \n",
       "skullw   -0.125065 -0.083548  0.065908  0.080014  0.279955  0.710827   \n",
       "totlngth -0.334329 -0.260843 -0.078666 -0.160200  0.250970  0.691094   \n",
       "taill     0.315351  0.380444  0.490856 -0.040917  0.117274  0.287429   \n",
       "footlgth -0.781811 -0.781171 -0.788286 -0.122964  0.125314  0.388941   \n",
       "earconch -0.773727 -0.790716 -0.883293 -0.091559  0.052943  0.121463   \n",
       "eye      -0.084078 -0.036987  0.148594  0.188371  0.234669  0.347175   \n",
       "chest    -0.402303 -0.345494 -0.194957 -0.139074  0.325303  0.631498   \n",
       "belly    -0.211671 -0.175266 -0.024788 -0.090777  0.345825  0.562663   \n",
       "\n",
       "            skullw  totlngth     taill  footlgth  earconch       eye   \n",
       "case     -0.125065 -0.334329  0.315351 -0.781811 -0.773727 -0.084078  \\\n",
       "site     -0.083548 -0.260843  0.380444 -0.781171 -0.790716 -0.036987   \n",
       "Pop       0.065908 -0.078666  0.490856 -0.788286 -0.883293  0.148594   \n",
       "sex       0.080014 -0.160200 -0.040917 -0.122964 -0.091559  0.188371   \n",
       "age       0.279955  0.250970  0.117274  0.125314  0.052943  0.234669   \n",
       "hdlngth   0.710827  0.691094  0.287429  0.388941  0.121463  0.347175   \n",
       "skullw    1.000000  0.526413  0.255921  0.275057 -0.000537  0.321991   \n",
       "totlngth  0.526413  1.000000  0.565646  0.442866  0.154484  0.247786   \n",
       "taill     0.255921  0.565646  1.000000 -0.126235 -0.385136  0.198134   \n",
       "footlgth  0.275057  0.442866 -0.126235  1.000000  0.768986  0.005197   \n",
       "earconch -0.000537  0.154484 -0.385136  0.768986  1.000000 -0.165092   \n",
       "eye       0.321991  0.247786  0.198134  0.005197 -0.165092  1.000000   \n",
       "chest     0.629737  0.577890  0.174997  0.450590  0.199230  0.149338   \n",
       "belly     0.451838  0.519465  0.294493  0.301736  0.066527  0.235716   \n",
       "\n",
       "             chest     belly  \n",
       "case     -0.402303 -0.211671  \n",
       "site     -0.345494 -0.175266  \n",
       "Pop      -0.194957 -0.024788  \n",
       "sex      -0.139074 -0.090777  \n",
       "age       0.325303  0.345825  \n",
       "hdlngth   0.631498  0.562663  \n",
       "skullw    0.629737  0.451838  \n",
       "totlngth  0.577890  0.519465  \n",
       "taill     0.174997  0.294493  \n",
       "footlgth  0.450590  0.301736  \n",
       "earconch  0.199230  0.066527  \n",
       "eye       0.149338  0.235716  \n",
       "chest     1.000000  0.606170  \n",
       "belly     0.606170  1.000000  "
      ]
     },
     "execution_count": 107,
     "metadata": {},
     "output_type": "execute_result"
    }
   ],
   "source": [
    "data.corr()"
   ]
  },
  {
   "cell_type": "code",
   "execution_count": 108,
   "metadata": {},
   "outputs": [
    {
     "data": {
      "text/plain": [
       "['case',\n",
       " 'site',\n",
       " 'Pop',\n",
       " 'sex',\n",
       " 'age',\n",
       " 'hdlngth',\n",
       " 'skullw',\n",
       " 'totlngth',\n",
       " 'taill',\n",
       " 'footlgth',\n",
       " 'earconch',\n",
       " 'eye',\n",
       " 'chest',\n",
       " 'belly']"
      ]
     },
     "execution_count": 108,
     "metadata": {},
     "output_type": "execute_result"
    }
   ],
   "source": [
    "#from this correlation, the total length can be predicted\n",
    "columns"
   ]
  },
  {
   "cell_type": "code",
   "execution_count": 109,
   "metadata": {},
   "outputs": [],
   "source": [
    "#prepare for training\n",
    "normalize=[ 'hdlngth',\n",
    " 'skullw',\n",
    " 'totlngth',\n",
    " 'taill',\n",
    " 'footlgth',\n",
    " 'earconch',\n",
    " 'eye',\n",
    " 'chest',\n",
    " 'belly']\n",
    "\n",
    "for i in normalize:\n",
    "    data[i]=(data[i]-np.mean(data[i]))/(np.std(data[i]))\n"
   ]
  },
  {
   "cell_type": "code",
   "execution_count": 111,
   "metadata": {},
   "outputs": [
    {
     "data": {
      "text/html": [
       "<div>\n",
       "<style scoped>\n",
       "    .dataframe tbody tr th:only-of-type {\n",
       "        vertical-align: middle;\n",
       "    }\n",
       "\n",
       "    .dataframe tbody tr th {\n",
       "        vertical-align: top;\n",
       "    }\n",
       "\n",
       "    .dataframe thead th {\n",
       "        text-align: right;\n",
       "    }\n",
       "</style>\n",
       "<table border=\"1\" class=\"dataframe\">\n",
       "  <thead>\n",
       "    <tr style=\"text-align: right;\">\n",
       "      <th></th>\n",
       "      <th>case</th>\n",
       "      <th>site</th>\n",
       "      <th>Pop</th>\n",
       "      <th>sex</th>\n",
       "      <th>age</th>\n",
       "      <th>hdlngth</th>\n",
       "      <th>skullw</th>\n",
       "      <th>totlngth</th>\n",
       "      <th>taill</th>\n",
       "      <th>footlgth</th>\n",
       "      <th>earconch</th>\n",
       "      <th>eye</th>\n",
       "      <th>chest</th>\n",
       "      <th>belly</th>\n",
       "    </tr>\n",
       "  </thead>\n",
       "  <tbody>\n",
       "    <tr>\n",
       "      <th>0</th>\n",
       "      <td>1</td>\n",
       "      <td>1</td>\n",
       "      <td>0</td>\n",
       "      <td>1</td>\n",
       "      <td>8.0</td>\n",
       "      <td>0.420996</td>\n",
       "      <td>1.134883</td>\n",
       "      <td>0.445603</td>\n",
       "      <td>-0.517732</td>\n",
       "      <td>1.387779</td>\n",
       "      <td>1.557431</td>\n",
       "      <td>0.147177</td>\n",
       "      <td>0.491222</td>\n",
       "      <td>1.241874</td>\n",
       "    </tr>\n",
       "    <tr>\n",
       "      <th>1</th>\n",
       "      <td>2</td>\n",
       "      <td>1</td>\n",
       "      <td>0</td>\n",
       "      <td>0</td>\n",
       "      <td>6.0</td>\n",
       "      <td>-0.028932</td>\n",
       "      <td>0.231197</td>\n",
       "      <td>1.028384</td>\n",
       "      <td>-0.261331</td>\n",
       "      <td>0.928309</td>\n",
       "      <td>0.750501</td>\n",
       "      <td>0.912499</td>\n",
       "      <td>0.736833</td>\n",
       "      <td>0.150424</td>\n",
       "    </tr>\n",
       "    <tr>\n",
       "      <th>2</th>\n",
       "      <td>3</td>\n",
       "      <td>1</td>\n",
       "      <td>0</td>\n",
       "      <td>0</td>\n",
       "      <td>6.0</td>\n",
       "      <td>0.392875</td>\n",
       "      <td>1.005785</td>\n",
       "      <td>1.960834</td>\n",
       "      <td>1.020671</td>\n",
       "      <td>1.594541</td>\n",
       "      <td>0.921668</td>\n",
       "      <td>0.434173</td>\n",
       "      <td>1.473667</td>\n",
       "      <td>0.514241</td>\n",
       "    </tr>\n",
       "    <tr>\n",
       "      <th>3</th>\n",
       "      <td>4</td>\n",
       "      <td>1</td>\n",
       "      <td>0</td>\n",
       "      <td>0</td>\n",
       "      <td>6.0</td>\n",
       "      <td>0.167912</td>\n",
       "      <td>0.069825</td>\n",
       "      <td>1.144941</td>\n",
       "      <td>0.507870</td>\n",
       "      <td>1.755355</td>\n",
       "      <td>0.995025</td>\n",
       "      <td>0.147177</td>\n",
       "      <td>0.491222</td>\n",
       "      <td>0.514241</td>\n",
       "    </tr>\n",
       "    <tr>\n",
       "      <th>4</th>\n",
       "      <td>5</td>\n",
       "      <td>1</td>\n",
       "      <td>0</td>\n",
       "      <td>0</td>\n",
       "      <td>2.0</td>\n",
       "      <td>-0.310136</td>\n",
       "      <td>-0.188371</td>\n",
       "      <td>-0.370290</td>\n",
       "      <td>-0.517732</td>\n",
       "      <td>0.583706</td>\n",
       "      <td>1.239549</td>\n",
       "      <td>0.051512</td>\n",
       "      <td>0.736833</td>\n",
       "      <td>0.150424</td>\n",
       "    </tr>\n",
       "    <tr>\n",
       "      <th>...</th>\n",
       "      <td>...</td>\n",
       "      <td>...</td>\n",
       "      <td>...</td>\n",
       "      <td>...</td>\n",
       "      <td>...</td>\n",
       "      <td>...</td>\n",
       "      <td>...</td>\n",
       "      <td>...</td>\n",
       "      <td>...</td>\n",
       "      <td>...</td>\n",
       "      <td>...</td>\n",
       "      <td>...</td>\n",
       "      <td>...</td>\n",
       "      <td>...</td>\n",
       "    </tr>\n",
       "    <tr>\n",
       "      <th>99</th>\n",
       "      <td>100</td>\n",
       "      <td>7</td>\n",
       "      <td>1</td>\n",
       "      <td>1</td>\n",
       "      <td>1.0</td>\n",
       "      <td>-0.872546</td>\n",
       "      <td>-0.285195</td>\n",
       "      <td>-1.302740</td>\n",
       "      <td>-0.261331</td>\n",
       "      <td>-0.564970</td>\n",
       "      <td>-0.325405</td>\n",
       "      <td>-0.235484</td>\n",
       "      <td>-1.964889</td>\n",
       "      <td>-2.032475</td>\n",
       "    </tr>\n",
       "    <tr>\n",
       "      <th>100</th>\n",
       "      <td>101</td>\n",
       "      <td>7</td>\n",
       "      <td>1</td>\n",
       "      <td>1</td>\n",
       "      <td>1.0</td>\n",
       "      <td>-1.125630</td>\n",
       "      <td>-0.704763</td>\n",
       "      <td>-1.069627</td>\n",
       "      <td>1.020671</td>\n",
       "      <td>-0.932546</td>\n",
       "      <td>-0.031976</td>\n",
       "      <td>-1.000805</td>\n",
       "      <td>-0.982445</td>\n",
       "      <td>0.150424</td>\n",
       "    </tr>\n",
       "    <tr>\n",
       "      <th>101</th>\n",
       "      <td>102</td>\n",
       "      <td>7</td>\n",
       "      <td>1</td>\n",
       "      <td>0</td>\n",
       "      <td>6.0</td>\n",
       "      <td>-0.057052</td>\n",
       "      <td>-0.607940</td>\n",
       "      <td>0.445603</td>\n",
       "      <td>0.507870</td>\n",
       "      <td>-1.139308</td>\n",
       "      <td>-0.667739</td>\n",
       "      <td>-1.957457</td>\n",
       "      <td>-0.982445</td>\n",
       "      <td>-0.941025</td>\n",
       "    </tr>\n",
       "    <tr>\n",
       "      <th>102</th>\n",
       "      <td>103</td>\n",
       "      <td>7</td>\n",
       "      <td>1</td>\n",
       "      <td>1</td>\n",
       "      <td>4.0</td>\n",
       "      <td>-0.310136</td>\n",
       "      <td>-0.543391</td>\n",
       "      <td>-1.069627</td>\n",
       "      <td>-0.261331</td>\n",
       "      <td>-1.277149</td>\n",
       "      <td>-0.545477</td>\n",
       "      <td>0.338508</td>\n",
       "      <td>-0.982445</td>\n",
       "      <td>-1.304842</td>\n",
       "    </tr>\n",
       "    <tr>\n",
       "      <th>103</th>\n",
       "      <td>104</td>\n",
       "      <td>7</td>\n",
       "      <td>1</td>\n",
       "      <td>0</td>\n",
       "      <td>3.0</td>\n",
       "      <td>0.280394</td>\n",
       "      <td>0.973511</td>\n",
       "      <td>0.445603</td>\n",
       "      <td>1.533472</td>\n",
       "      <td>-0.197394</td>\n",
       "      <td>-0.521025</td>\n",
       "      <td>-0.235484</td>\n",
       "      <td>0.736833</td>\n",
       "      <td>0.332332</td>\n",
       "    </tr>\n",
       "  </tbody>\n",
       "</table>\n",
       "<p>104 rows × 14 columns</p>\n",
       "</div>"
      ],
      "text/plain": [
       "     case  site  Pop  sex  age   hdlngth    skullw  totlngth     taill   \n",
       "0       1     1    0    1  8.0  0.420996  1.134883  0.445603 -0.517732  \\\n",
       "1       2     1    0    0  6.0 -0.028932  0.231197  1.028384 -0.261331   \n",
       "2       3     1    0    0  6.0  0.392875  1.005785  1.960834  1.020671   \n",
       "3       4     1    0    0  6.0  0.167912  0.069825  1.144941  0.507870   \n",
       "4       5     1    0    0  2.0 -0.310136 -0.188371 -0.370290 -0.517732   \n",
       "..    ...   ...  ...  ...  ...       ...       ...       ...       ...   \n",
       "99    100     7    1    1  1.0 -0.872546 -0.285195 -1.302740 -0.261331   \n",
       "100   101     7    1    1  1.0 -1.125630 -0.704763 -1.069627  1.020671   \n",
       "101   102     7    1    0  6.0 -0.057052 -0.607940  0.445603  0.507870   \n",
       "102   103     7    1    1  4.0 -0.310136 -0.543391 -1.069627 -0.261331   \n",
       "103   104     7    1    0  3.0  0.280394  0.973511  0.445603  1.533472   \n",
       "\n",
       "     footlgth  earconch       eye     chest     belly  \n",
       "0    1.387779  1.557431  0.147177  0.491222  1.241874  \n",
       "1    0.928309  0.750501  0.912499  0.736833  0.150424  \n",
       "2    1.594541  0.921668  0.434173  1.473667  0.514241  \n",
       "3    1.755355  0.995025  0.147177  0.491222  0.514241  \n",
       "4    0.583706  1.239549  0.051512  0.736833  0.150424  \n",
       "..        ...       ...       ...       ...       ...  \n",
       "99  -0.564970 -0.325405 -0.235484 -1.964889 -2.032475  \n",
       "100 -0.932546 -0.031976 -1.000805 -0.982445  0.150424  \n",
       "101 -1.139308 -0.667739 -1.957457 -0.982445 -0.941025  \n",
       "102 -1.277149 -0.545477  0.338508 -0.982445 -1.304842  \n",
       "103 -0.197394 -0.521025 -0.235484  0.736833  0.332332  \n",
       "\n",
       "[104 rows x 14 columns]"
      ]
     },
     "execution_count": 111,
     "metadata": {},
     "output_type": "execute_result"
    }
   ],
   "source": [
    "data"
   ]
  },
  {
   "cell_type": "code",
   "execution_count": 112,
   "metadata": {},
   "outputs": [],
   "source": [
    "data.to_csv(\"./train.csv\")"
   ]
  },
  {
   "cell_type": "code",
   "execution_count": null,
   "metadata": {},
   "outputs": [],
   "source": []
  }
 ],
 "metadata": {
  "kernelspec": {
   "display_name": ".venv",
   "language": "python",
   "name": "python3"
  },
  "language_info": {
   "codemirror_mode": {
    "name": "ipython",
    "version": 3
   },
   "file_extension": ".py",
   "mimetype": "text/x-python",
   "name": "python",
   "nbconvert_exporter": "python",
   "pygments_lexer": "ipython3",
   "version": "3.10.11"
  },
  "orig_nbformat": 4
 },
 "nbformat": 4,
 "nbformat_minor": 2
}
