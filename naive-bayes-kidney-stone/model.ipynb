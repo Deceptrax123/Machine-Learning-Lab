{
 "cells": [
  {
   "cell_type": "code",
   "execution_count": 19,
   "metadata": {},
   "outputs": [],
   "source": [
    "import pandas as pd\n",
    "import numpy as np"
   ]
  },
  {
   "cell_type": "code",
   "execution_count": 20,
   "metadata": {},
   "outputs": [
    {
     "data": {
      "text/html": [
       "<div>\n",
       "<style scoped>\n",
       "    .dataframe tbody tr th:only-of-type {\n",
       "        vertical-align: middle;\n",
       "    }\n",
       "\n",
       "    .dataframe tbody tr th {\n",
       "        vertical-align: top;\n",
       "    }\n",
       "\n",
       "    .dataframe thead th {\n",
       "        text-align: right;\n",
       "    }\n",
       "</style>\n",
       "<table border=\"1\" class=\"dataframe\">\n",
       "  <thead>\n",
       "    <tr style=\"text-align: right;\">\n",
       "      <th></th>\n",
       "      <th>id</th>\n",
       "      <th>gravity</th>\n",
       "      <th>ph</th>\n",
       "      <th>osmo</th>\n",
       "      <th>cond</th>\n",
       "      <th>urea</th>\n",
       "      <th>calc</th>\n",
       "      <th>target</th>\n",
       "    </tr>\n",
       "  </thead>\n",
       "  <tbody>\n",
       "    <tr>\n",
       "      <th>0</th>\n",
       "      <td>0</td>\n",
       "      <td>1.013</td>\n",
       "      <td>6.19</td>\n",
       "      <td>443</td>\n",
       "      <td>14.8</td>\n",
       "      <td>124</td>\n",
       "      <td>1.45</td>\n",
       "      <td>0</td>\n",
       "    </tr>\n",
       "    <tr>\n",
       "      <th>1</th>\n",
       "      <td>1</td>\n",
       "      <td>1.025</td>\n",
       "      <td>5.40</td>\n",
       "      <td>703</td>\n",
       "      <td>23.6</td>\n",
       "      <td>394</td>\n",
       "      <td>4.18</td>\n",
       "      <td>0</td>\n",
       "    </tr>\n",
       "    <tr>\n",
       "      <th>2</th>\n",
       "      <td>2</td>\n",
       "      <td>1.009</td>\n",
       "      <td>6.13</td>\n",
       "      <td>371</td>\n",
       "      <td>24.5</td>\n",
       "      <td>159</td>\n",
       "      <td>9.04</td>\n",
       "      <td>0</td>\n",
       "    </tr>\n",
       "    <tr>\n",
       "      <th>3</th>\n",
       "      <td>3</td>\n",
       "      <td>1.021</td>\n",
       "      <td>4.91</td>\n",
       "      <td>442</td>\n",
       "      <td>20.8</td>\n",
       "      <td>398</td>\n",
       "      <td>6.63</td>\n",
       "      <td>1</td>\n",
       "    </tr>\n",
       "    <tr>\n",
       "      <th>4</th>\n",
       "      <td>4</td>\n",
       "      <td>1.021</td>\n",
       "      <td>5.53</td>\n",
       "      <td>874</td>\n",
       "      <td>17.8</td>\n",
       "      <td>385</td>\n",
       "      <td>2.21</td>\n",
       "      <td>1</td>\n",
       "    </tr>\n",
       "    <tr>\n",
       "      <th>...</th>\n",
       "      <td>...</td>\n",
       "      <td>...</td>\n",
       "      <td>...</td>\n",
       "      <td>...</td>\n",
       "      <td>...</td>\n",
       "      <td>...</td>\n",
       "      <td>...</td>\n",
       "      <td>...</td>\n",
       "    </tr>\n",
       "    <tr>\n",
       "      <th>409</th>\n",
       "      <td>409</td>\n",
       "      <td>1.011</td>\n",
       "      <td>5.21</td>\n",
       "      <td>527</td>\n",
       "      <td>21.4</td>\n",
       "      <td>75</td>\n",
       "      <td>1.53</td>\n",
       "      <td>0</td>\n",
       "    </tr>\n",
       "    <tr>\n",
       "      <th>410</th>\n",
       "      <td>410</td>\n",
       "      <td>1.024</td>\n",
       "      <td>5.53</td>\n",
       "      <td>577</td>\n",
       "      <td>19.7</td>\n",
       "      <td>224</td>\n",
       "      <td>0.77</td>\n",
       "      <td>0</td>\n",
       "    </tr>\n",
       "    <tr>\n",
       "      <th>411</th>\n",
       "      <td>411</td>\n",
       "      <td>1.018</td>\n",
       "      <td>6.28</td>\n",
       "      <td>455</td>\n",
       "      <td>22.2</td>\n",
       "      <td>270</td>\n",
       "      <td>7.68</td>\n",
       "      <td>1</td>\n",
       "    </tr>\n",
       "    <tr>\n",
       "      <th>412</th>\n",
       "      <td>412</td>\n",
       "      <td>1.008</td>\n",
       "      <td>7.12</td>\n",
       "      <td>325</td>\n",
       "      <td>12.6</td>\n",
       "      <td>75</td>\n",
       "      <td>1.03</td>\n",
       "      <td>1</td>\n",
       "    </tr>\n",
       "    <tr>\n",
       "      <th>413</th>\n",
       "      <td>413</td>\n",
       "      <td>1.011</td>\n",
       "      <td>6.13</td>\n",
       "      <td>364</td>\n",
       "      <td>9.9</td>\n",
       "      <td>159</td>\n",
       "      <td>0.27</td>\n",
       "      <td>0</td>\n",
       "    </tr>\n",
       "  </tbody>\n",
       "</table>\n",
       "<p>414 rows × 8 columns</p>\n",
       "</div>"
      ],
      "text/plain": [
       "      id  gravity    ph  osmo  cond  urea  calc  target\n",
       "0      0    1.013  6.19   443  14.8   124  1.45       0\n",
       "1      1    1.025  5.40   703  23.6   394  4.18       0\n",
       "2      2    1.009  6.13   371  24.5   159  9.04       0\n",
       "3      3    1.021  4.91   442  20.8   398  6.63       1\n",
       "4      4    1.021  5.53   874  17.8   385  2.21       1\n",
       "..   ...      ...   ...   ...   ...   ...   ...     ...\n",
       "409  409    1.011  5.21   527  21.4    75  1.53       0\n",
       "410  410    1.024  5.53   577  19.7   224  0.77       0\n",
       "411  411    1.018  6.28   455  22.2   270  7.68       1\n",
       "412  412    1.008  7.12   325  12.6    75  1.03       1\n",
       "413  413    1.011  6.13   364   9.9   159  0.27       0\n",
       "\n",
       "[414 rows x 8 columns]"
      ]
     },
     "execution_count": 20,
     "metadata": {},
     "output_type": "execute_result"
    }
   ],
   "source": [
    "df=pd.read_csv(\"train.csv\")\n",
    "df"
   ]
  },
  {
   "cell_type": "code",
   "execution_count": 21,
   "metadata": {},
   "outputs": [],
   "source": [
    "#z score normalization\n",
    "cols=['gravity','ph','osmo','cond','urea','calc']\n",
    "for i in cols:\n",
    "    df[i]=((df[i]-np.mean(df[i]))/np.std(df[i]))"
   ]
  },
  {
   "cell_type": "code",
   "execution_count": 22,
   "metadata": {},
   "outputs": [
    {
     "data": {
      "text/html": [
       "<div>\n",
       "<style scoped>\n",
       "    .dataframe tbody tr th:only-of-type {\n",
       "        vertical-align: middle;\n",
       "    }\n",
       "\n",
       "    .dataframe tbody tr th {\n",
       "        vertical-align: top;\n",
       "    }\n",
       "\n",
       "    .dataframe thead th {\n",
       "        text-align: right;\n",
       "    }\n",
       "</style>\n",
       "<table border=\"1\" class=\"dataframe\">\n",
       "  <thead>\n",
       "    <tr style=\"text-align: right;\">\n",
       "      <th></th>\n",
       "      <th>id</th>\n",
       "      <th>gravity</th>\n",
       "      <th>ph</th>\n",
       "      <th>osmo</th>\n",
       "      <th>cond</th>\n",
       "      <th>urea</th>\n",
       "      <th>calc</th>\n",
       "      <th>target</th>\n",
       "    </tr>\n",
       "  </thead>\n",
       "  <tbody>\n",
       "    <tr>\n",
       "      <th>0</th>\n",
       "      <td>0</td>\n",
       "      <td>-0.734032</td>\n",
       "      <td>0.365623</td>\n",
       "      <td>-0.889728</td>\n",
       "      <td>-0.884388</td>\n",
       "      <td>-1.134869</td>\n",
       "      <td>-0.829136</td>\n",
       "      <td>0</td>\n",
       "    </tr>\n",
       "    <tr>\n",
       "      <th>1</th>\n",
       "      <td>1</td>\n",
       "      <td>1.065904</td>\n",
       "      <td>-0.865897</td>\n",
       "      <td>0.219521</td>\n",
       "      <td>0.288059</td>\n",
       "      <td>0.846384</td>\n",
       "      <td>0.020338</td>\n",
       "      <td>0</td>\n",
       "    </tr>\n",
       "    <tr>\n",
       "      <th>2</th>\n",
       "      <td>2</td>\n",
       "      <td>-1.334010</td>\n",
       "      <td>0.272090</td>\n",
       "      <td>-1.196904</td>\n",
       "      <td>0.407969</td>\n",
       "      <td>-0.878040</td>\n",
       "      <td>1.532589</td>\n",
       "      <td>0</td>\n",
       "    </tr>\n",
       "    <tr>\n",
       "      <th>3</th>\n",
       "      <td>3</td>\n",
       "      <td>0.465925</td>\n",
       "      <td>-1.629751</td>\n",
       "      <td>-0.893994</td>\n",
       "      <td>-0.084992</td>\n",
       "      <td>0.875736</td>\n",
       "      <td>0.782687</td>\n",
       "      <td>1</td>\n",
       "    </tr>\n",
       "    <tr>\n",
       "      <th>4</th>\n",
       "      <td>4</td>\n",
       "      <td>0.465925</td>\n",
       "      <td>-0.663242</td>\n",
       "      <td>0.949065</td>\n",
       "      <td>-0.484690</td>\n",
       "      <td>0.780342</td>\n",
       "      <td>-0.592652</td>\n",
       "      <td>1</td>\n",
       "    </tr>\n",
       "    <tr>\n",
       "      <th>...</th>\n",
       "      <td>...</td>\n",
       "      <td>...</td>\n",
       "      <td>...</td>\n",
       "      <td>...</td>\n",
       "      <td>...</td>\n",
       "      <td>...</td>\n",
       "      <td>...</td>\n",
       "      <td>...</td>\n",
       "    </tr>\n",
       "    <tr>\n",
       "      <th>409</th>\n",
       "      <td>409</td>\n",
       "      <td>-1.034021</td>\n",
       "      <td>-1.162085</td>\n",
       "      <td>-0.531355</td>\n",
       "      <td>-0.005053</td>\n",
       "      <td>-1.494430</td>\n",
       "      <td>-0.804243</td>\n",
       "      <td>0</td>\n",
       "    </tr>\n",
       "    <tr>\n",
       "      <th>410</th>\n",
       "      <td>410</td>\n",
       "      <td>0.915909</td>\n",
       "      <td>-0.663242</td>\n",
       "      <td>-0.318038</td>\n",
       "      <td>-0.231548</td>\n",
       "      <td>-0.401072</td>\n",
       "      <td>-1.040727</td>\n",
       "      <td>0</td>\n",
       "    </tr>\n",
       "    <tr>\n",
       "      <th>411</th>\n",
       "      <td>411</td>\n",
       "      <td>0.015941</td>\n",
       "      <td>0.505922</td>\n",
       "      <td>-0.838532</td>\n",
       "      <td>0.101534</td>\n",
       "      <td>-0.063525</td>\n",
       "      <td>1.109408</td>\n",
       "      <td>1</td>\n",
       "    </tr>\n",
       "    <tr>\n",
       "      <th>412</th>\n",
       "      <td>412</td>\n",
       "      <td>-1.484005</td>\n",
       "      <td>1.815386</td>\n",
       "      <td>-1.393156</td>\n",
       "      <td>-1.177500</td>\n",
       "      <td>-1.494430</td>\n",
       "      <td>-0.959824</td>\n",
       "      <td>1</td>\n",
       "    </tr>\n",
       "    <tr>\n",
       "      <th>413</th>\n",
       "      <td>413</td>\n",
       "      <td>-1.034021</td>\n",
       "      <td>0.272090</td>\n",
       "      <td>-1.226768</td>\n",
       "      <td>-1.537228</td>\n",
       "      <td>-0.878040</td>\n",
       "      <td>-1.196308</td>\n",
       "      <td>0</td>\n",
       "    </tr>\n",
       "  </tbody>\n",
       "</table>\n",
       "<p>414 rows × 8 columns</p>\n",
       "</div>"
      ],
      "text/plain": [
       "      id   gravity        ph      osmo      cond      urea      calc  target\n",
       "0      0 -0.734032  0.365623 -0.889728 -0.884388 -1.134869 -0.829136       0\n",
       "1      1  1.065904 -0.865897  0.219521  0.288059  0.846384  0.020338       0\n",
       "2      2 -1.334010  0.272090 -1.196904  0.407969 -0.878040  1.532589       0\n",
       "3      3  0.465925 -1.629751 -0.893994 -0.084992  0.875736  0.782687       1\n",
       "4      4  0.465925 -0.663242  0.949065 -0.484690  0.780342 -0.592652       1\n",
       "..   ...       ...       ...       ...       ...       ...       ...     ...\n",
       "409  409 -1.034021 -1.162085 -0.531355 -0.005053 -1.494430 -0.804243       0\n",
       "410  410  0.915909 -0.663242 -0.318038 -0.231548 -0.401072 -1.040727       0\n",
       "411  411  0.015941  0.505922 -0.838532  0.101534 -0.063525  1.109408       1\n",
       "412  412 -1.484005  1.815386 -1.393156 -1.177500 -1.494430 -0.959824       1\n",
       "413  413 -1.034021  0.272090 -1.226768 -1.537228 -0.878040 -1.196308       0\n",
       "\n",
       "[414 rows x 8 columns]"
      ]
     },
     "execution_count": 22,
     "metadata": {},
     "output_type": "execute_result"
    }
   ],
   "source": [
    "df"
   ]
  },
  {
   "cell_type": "code",
   "execution_count": 23,
   "metadata": {},
   "outputs": [],
   "source": [
    "X=df.drop(['id','target'],axis=1)\n",
    "Y=df['target']"
   ]
  },
  {
   "cell_type": "code",
   "execution_count": 80,
   "metadata": {},
   "outputs": [
    {
     "name": "stdout",
     "output_type": "stream",
     "text": [
      "0.0030493736267089844\n"
     ]
    }
   ],
   "source": [
    "from sklearn.model_selection import train_test_split\n",
    "from sklearn.naive_bayes import GaussianNB\n",
    "import time\n",
    "\n",
    "x_train,x_test,y_train,y_test=train_test_split(X,Y,shuffle=True,train_size=0.80)\n",
    "\n",
    "start=time.time()\n",
    "\n",
    "gnb=GaussianNB()\n",
    "model=gnb.fit(x_train,y_train)\n",
    "\n",
    "end=time.time()\n",
    "\n",
    "print(end-start)"
   ]
  },
  {
   "cell_type": "code",
   "execution_count": 81,
   "metadata": {},
   "outputs": [
    {
     "data": {
      "text/plain": [
       "(4, 6)"
      ]
     },
     "execution_count": 81,
     "metadata": {},
     "output_type": "execute_result"
    }
   ],
   "source": [
    "x_train.shape"
   ]
  },
  {
   "cell_type": "code",
   "execution_count": 82,
   "metadata": {},
   "outputs": [],
   "source": [
    "from sklearn.metrics import precision_score,recall_score,f1_score,confusion_matrix\n",
    "\n",
    "#On Training\n",
    "ypred=model.predict(x_train)\n",
    "missclass_rate=((y_train!=ypred).sum()/y_train.shape[0])*100\n",
    "precision=precision_score(y_train,ypred)\n",
    "recall=recall_score(y_train,ypred)\n",
    "f1=f1_score(y_train,ypred)\n",
    "c=confusion_matrix(y_train,ypred)\n",
    "sensitivity=c[0][0]/(c[0][0]+c[1][0])\n",
    "specificity=c[1][1]/(c[1][1]+c[0][1])\n",
    "accuracy=gnb.score(x_train,y_train)"
   ]
  },
  {
   "cell_type": "code",
   "execution_count": 83,
   "metadata": {},
   "outputs": [
    {
     "name": "stdout",
     "output_type": "stream",
     "text": [
      "0.0\n",
      "1.0\n",
      "1.0\n",
      "1.0\n",
      "1.0\n",
      "1.0\n",
      "1.0\n"
     ]
    }
   ],
   "source": [
    "#print train metrics\n",
    "print(missclass_rate)\n",
    "print(precision)\n",
    "print(recall)\n",
    "print(f1)\n",
    "print(sensitivity)\n",
    "print(specificity)\n",
    "print(accuracy)"
   ]
  },
  {
   "cell_type": "code",
   "execution_count": 84,
   "metadata": {},
   "outputs": [],
   "source": [
    "#On testing\n",
    "ypred=model.predict(x_test)\n",
    "missclass_rate=((y_test!=ypred).sum()/y_test.shape[0])*100\n",
    "precision=precision_score(y_test,ypred)\n",
    "recall=recall_score(y_test,ypred)\n",
    "f1=f1_score(y_test,ypred)\n",
    "c=confusion_matrix(y_test,ypred)\n",
    "sensitivity=c[0][0]/(c[0][0]+c[1][0])\n",
    "specificity=c[1][1]/(c[1][1]+c[0][1])\n",
    "accuracy=gnb.score(x_test,y_test)"
   ]
  },
  {
   "cell_type": "code",
   "execution_count": 85,
   "metadata": {},
   "outputs": [
    {
     "name": "stdout",
     "output_type": "stream",
     "text": [
      "53.170731707317074\n",
      "0.453125\n",
      "0.9560439560439561\n",
      "0.6148409893992932\n",
      "0.6923076923076923\n",
      "0.453125\n",
      "0.4682926829268293\n"
     ]
    }
   ],
   "source": [
    "#print test metrics\n",
    "print(missclass_rate)\n",
    "print(precision)\n",
    "print(recall)\n",
    "print(f1)\n",
    "print(sensitivity)\n",
    "print(specificity)\n",
    "print(accuracy)"
   ]
  },
  {
   "cell_type": "code",
   "execution_count": 97,
   "metadata": {},
   "outputs": [],
   "source": [
    "#Logistic regression\n",
    "from sklearn.linear_model import LogisticRegression\n",
    "\n",
    "x_train,x_test,y_train,y_test=train_test_split(X,Y,shuffle=True,train_size=0.80)\n",
    "classifier=LogisticRegression(random_state=0).fit(x_train,y_train)"
   ]
  },
  {
   "cell_type": "code",
   "execution_count": 98,
   "metadata": {},
   "outputs": [],
   "source": [
    "\n",
    "#On Training\n",
    "ypred_l=classifier.predict(x_train)\n",
    "precision=precision_score(y_train,ypred_l)\n",
    "recall=recall_score(y_train,ypred_l)\n",
    "accuracy=classifier.score(x_train,y_train)\n",
    "c=confusion_matrix(y_train,ypred_l)\n",
    "sensitivity=c[0][0]/(c[0][0]+c[1][0])\n",
    "specificity=c[1][1]/(c[1][1]+c[0][1])"
   ]
  },
  {
   "cell_type": "code",
   "execution_count": 99,
   "metadata": {},
   "outputs": [
    {
     "name": "stdout",
     "output_type": "stream",
     "text": [
      "0.7456140350877193\n",
      "0.5782312925170068\n",
      "0.7250755287009063\n",
      "0.7142857142857143\n",
      "0.7456140350877193\n"
     ]
    }
   ],
   "source": [
    "print(precision)\n",
    "print(recall)\n",
    "print(accuracy)\n",
    "print(sensitivity)\n",
    "print(specificity)"
   ]
  },
  {
   "cell_type": "code",
   "execution_count": 100,
   "metadata": {},
   "outputs": [],
   "source": [
    "#On Testing\n",
    "ypred_l_test=classifier.predict(x_test)\n",
    "precision=precision_score(y_test,ypred_l_test)\n",
    "recall=recall_score(y_test,ypred_l_test)\n",
    "accuracy=classifier.score(x_test,y_test)\n",
    "c=confusion_matrix(y_test,ypred_l_test)\n",
    "sensitivity=c[0][0]/(c[0][0]+c[1][0])\n",
    "specificity=c[1][1]/(c[1][1]+c[0][1])"
   ]
  },
  {
   "cell_type": "code",
   "execution_count": 101,
   "metadata": {},
   "outputs": [
    {
     "name": "stdout",
     "output_type": "stream",
     "text": [
      "0.7352941176470589\n",
      "0.6756756756756757\n",
      "0.7469879518072289\n",
      "0.7551020408163265\n",
      "0.7352941176470589\n"
     ]
    }
   ],
   "source": [
    "print(precision)\n",
    "print(recall)\n",
    "print(accuracy)\n",
    "print(sensitivity)\n",
    "print(specificity)"
   ]
  },
  {
   "cell_type": "code",
   "execution_count": 113,
   "metadata": {},
   "outputs": [
    {
     "data": {
      "text/plain": [
       "Text(0.5, 1.0, 'ROC')"
      ]
     },
     "execution_count": 113,
     "metadata": {},
     "output_type": "execute_result"
    },
    {
     "data": {
      "image/png": "[encoded data removed]",
      "text/plain": [
       "<Figure size 640x480 with 1 Axes>"
      ]
     },
     "metadata": {},
     "output_type": "display_data"
    }
   ],
   "source": [
    "#Plot roc curve for test\n",
    "import matplotlib.pyplot as plt\n",
    "from sklearn.metrics import roc_auc_score,roc_curve\n",
    "\n",
    "\n",
    "fpr,tpr,thresholds=roc_curve(y_test,classifier.decision_function(x_test))\n",
    "\n",
    "ytest_probs=classifier.predict_proba(x_test)[::,1]\n",
    "auc=roc_auc_score(y_test,ytest_probs)\n",
    "\n",
    "label=\"AUC\"+str(auc)\n",
    "plt.plot(tpr,fpr,label=label)\n",
    "plt.xlabel(\"False Positive rate\")\n",
    "plt.ylabel(\"True Positive rate\")\n",
    "plt.legend(loc=4)\n",
    "plt.title(\"ROC\")"
   ]
  },
  {
   "cell_type": "code",
   "execution_count": null,
   "metadata": {},
   "outputs": [],
   "source": []
  }
 ],
 "metadata": {
  "kernelspec": {
   "display_name": ".venv",
   "language": "python",
   "name": "python3"
  },
  "language_info": {
   "codemirror_mode": {
    "name": "ipython",
    "version": 3
   },
   "file_extension": ".py",
   "mimetype": "text/x-python",
   "name": "python",
   "nbconvert_exporter": "python",
   "pygments_lexer": "ipython3",
   "version": "3.10.11"
  },
  "orig_nbformat": 4
 },
 "nbformat": 4,
 "nbformat_minor": 2
}
